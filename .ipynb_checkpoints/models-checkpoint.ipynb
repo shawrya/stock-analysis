{
 "cells": [
  {
   "cell_type": "code",
   "execution_count": 11,
   "metadata": {},
   "outputs": [],
   "source": [
    "import dash\n",
    "import keras\n",
    "import pickle\n",
    "import dash_html_components as html\n",
    "import dash_core_components as dcc\n",
    "import dash_bootstrap_components as dbc\n",
    "from keras.models import Sequential\n",
    "from keras.layers import Dense,LSTM\n",
    "from dash.dependencies import Input,Output\n",
    "from app import app\n",
    "from sklearn.preprocessing import MinMaxScaler\n",
    "from keras.models import Sequential\n",
    "from keras.layers import Dense,LSTM\n",
    "import keras\n",
    "import pandas as pd\n",
    "import numpy as np\n",
    "import plotly.graph_objs as go\n",
    "from plotly.subplots import make_subplots\n",
    "import math\n",
    "def model_load1(value):\n",
    "    apple_model = keras.models.load_model(r\".\\machinelearning_models\\apple_model.h5\")\n",
    "    amd_model = keras.models.load_model(r\".\\machinelearning_models\\amd_model.h5\")\n",
    "    facebook_model = keras.models.load_model(r\".\\machinelearning_models\\facebook_model.h5\")\n",
    "    ibm_model = keras.models.load_model(r\".\\machinelearning_models\\IBM_model.h5\")\n",
    "    infy_model = keras.models.load_model(r\".\\machinelearning_models\\infy_model.h5\")\n",
    "    kodk_model = keras.models.load_model(r\".\\machinelearning_models\\kodk_model.h5\")\n",
    "    msft_model = keras.models.load_model(r\".\\machinelearning_models\\msft_model.h5\")\n",
    "    sbux_model = keras.models.load_model(r\".\\machinelearning_models\\sbux_model.h5\")\n",
    "    tsla_model = keras.models.load_model(r\".\\machinelearning_models\\tsla_model.h5\")\n",
    "    ttm_model = keras.models.load_model(r\".\\machinelearning_models\\ttm_model.h5\")\n",
    "    twtr_model = keras.models.load_model(r\".\\machinelearning_models\\twtr_model.h5\")\n",
    "    value = value.upper()\n",
    "    if value == \"AAPL\":\n",
    "        model = apple_model\n",
    "    if value == \"AMD\":\n",
    "        model = amd_model\n",
    "    if value == \"FB\":\n",
    "        model = facebook_model\n",
    "    if value == \"IBM\":\n",
    "        model = ibm_model\n",
    "    if value == \"INFY\":\n",
    "        model = infy_model\n",
    "    if value == \"KODK\":\n",
    "        model = kodk_model\n",
    "    if value == \"MSFT\":\n",
    "        model = msft_model\n",
    "    if value == \"SBUX\":\n",
    "        model = sbux_model\n",
    "    if value == \"TSLA\":\n",
    "        model = tsla_model\n",
    "    if value == \"TTM\":\n",
    "        model =ttm_model\n",
    "    if value == \"TWTR\":\n",
    "        model = twtr_model\n",
    "\n",
    "\n",
    "    df = pd.read_excel(f\".\\\\data\\\\{value}.xlsx\")\n",
    "    data = df.filter([\"close\"])\n",
    "    dataset = data.values\n",
    "    scaler = MinMaxScaler(feature_range=(0,1))\n",
    "    scaled_data = scaler.fit_transform(dataset)\n",
    "    training_data_len=math.ceil(len(dataset)*0.8)\n",
    "    print(training_data_len)\n",
    "\n",
    "    train_data=scaled_data[0:training_data_len,:]\n",
    "    x_train = []\n",
    "    y_train = []\n",
    "    for i in range(70,len(train_data)):\n",
    "        x_train.append(train_data[i-70:i,0])\n",
    "        y_train.append(train_data[i,0])\n",
    "        if i<=70:\n",
    "            print(x_train)\n",
    "            print(y_train)\n",
    "\n",
    "    test_data=scaled_data[training_data_len-70:,:]\n",
    "    x_test=[]\n",
    "    y_test=dataset[training_data_len:,:]\n",
    "    for i in range(70,len(test_data)):\n",
    "        x_test.append(test_data[i-70:i,0])\n",
    "\n",
    "    x_train = np.array(x_train)\n",
    "    y_train = np.array(y_train)\n",
    "    x_test=np.array(x_test)\n",
    "    \n",
    "    x_test=np.reshape(x_test,(x_test.shape[0],x_test.shape[1],1))\n",
    "    print('test',len(x_test))\n",
    "    predictions = model.predict(x_test)\n",
    "    predictions = scaler.inverse_transform(predictions)\n",
    "#     print(predictions)\n",
    "\n",
    "\n",
    "\n",
    "\n",
    "    valid = data[training_data_len:]\n",
    "    valid[\"prediction\"] = predictions\n",
    "    df_date = pd.read_excel(f\".\\\\data\\\\{value}.xlsx\")\n",
    "    df_date = df_date.filter(['date'])\n",
    "    df_date = df_date[training_data_len:]\n",
    "    valid['date'] = df_date\n",
    "    df_c = len(df)\n",
    "    _ = len(valid)\n",
    "    c15 = _ - 15\n",
    "    valid = valid[c15:]\n",
    "    print(\"all models loaded\")"
   ]
  },
  {
   "cell_type": "code",
   "execution_count": 12,
   "metadata": {},
   "outputs": [
    {
     "name": "stdout",
     "output_type": "stream",
     "text": [
      "7060\n",
      "[array([2.83562913e-05, 4.25344369e-05, 4.96234771e-05, 3.89898842e-05,\n",
      "       3.19008114e-05, 2.12672185e-05, 1.06336256e-05, 0.00000000e+00,\n",
      "       7.08907282e-06, 1.77226657e-05, 2.48117385e-05, 2.12672185e-05,\n",
      "       1.77226657e-05, 2.12672185e-05, 2.48117385e-05, 2.48117385e-05,\n",
      "       1.77226657e-05, 2.12672185e-05, 2.83562913e-05, 3.19008114e-05,\n",
      "       3.89898842e-05, 4.25344369e-05, 4.25344369e-05, 5.67125499e-05,\n",
      "       6.02571026e-05, 4.60789570e-05, 4.60789570e-05, 3.89898842e-05,\n",
      "       4.07621442e-05, 8.15242884e-05, 1.09880580e-04, 1.13425100e-04,\n",
      "       9.92469868e-05, 8.86133613e-05, 8.15242884e-05, 8.15242884e-05,\n",
      "       7.79797684e-05, 8.15242884e-05, 8.15242884e-05, 8.50688412e-05,\n",
      "       8.15242884e-05, 8.50688412e-05, 8.86133613e-05, 8.50688412e-05,\n",
      "       8.50688412e-05, 8.86133613e-05, 8.15242884e-05, 7.79797684e-05,\n",
      "       7.08906955e-05, 7.08906955e-05, 7.08906955e-05, 8.50688412e-05,\n",
      "       9.92469868e-05, 1.09880580e-04, 1.27603245e-04, 1.13425100e-04,\n",
      "       1.13425100e-04, 1.09880580e-04, 1.16969653e-04, 1.16969653e-04,\n",
      "       9.57024341e-05, 9.57024341e-05, 9.57024341e-05, 7.79797684e-05,\n",
      "       7.79797684e-05, 7.44352483e-05, 8.15242884e-05, 7.79797684e-05,\n",
      "       7.44352483e-05, 7.62075083e-05])]\n",
      "[8.152428843556268e-05]\n",
      "test 1764\n",
      "WARNING:tensorflow:Model was constructed with shape (None, 90, 1) for input KerasTensor(type_spec=TensorSpec(shape=(None, 90, 1), dtype=tf.float32, name='lstm_input'), name='lstm_input', description=\"created by layer 'lstm_input'\"), but it was called on an input with incompatible shape (None, 70, 1).\n"
     ]
    },
    {
     "name": "stderr",
     "output_type": "stream",
     "text": [
      "<ipython-input-11-405d9a6cfc87>:95: SettingWithCopyWarning: \n",
      "A value is trying to be set on a copy of a slice from a DataFrame.\n",
      "Try using .loc[row_indexer,col_indexer] = value instead\n",
      "\n",
      "See the caveats in the documentation: https://pandas.pydata.org/pandas-docs/stable/user_guide/indexing.html#returning-a-view-versus-a-copy\n",
      "  valid[\"prediction\"] = predictions\n"
     ]
    },
    {
     "name": "stdout",
     "output_type": "stream",
     "text": [
      "all models loaded\n"
     ]
    },
    {
     "name": "stderr",
     "output_type": "stream",
     "text": [
      "<ipython-input-11-405d9a6cfc87>:99: SettingWithCopyWarning: \n",
      "A value is trying to be set on a copy of a slice from a DataFrame.\n",
      "Try using .loc[row_indexer,col_indexer] = value instead\n",
      "\n",
      "See the caveats in the documentation: https://pandas.pydata.org/pandas-docs/stable/user_guide/indexing.html#returning-a-view-versus-a-copy\n",
      "  valid['date'] = df_date\n"
     ]
    }
   ],
   "source": [
    "model_load1(\"MSFT\")"
   ]
  },
  {
   "cell_type": "code",
   "execution_count": 19,
   "metadata": {},
   "outputs": [
    {
     "name": "stdout",
     "output_type": "stream",
     "text": [
      "<class 'str'>\n"
     ]
    }
   ],
   "source": [
    "from datetime import datetime, timedelta \n",
    "now = datetime.now()\n",
    "yest_day = now + timedelta(days=-1)\n",
    "yest_day = yest_day.strftime('%Y-%m-%d')\n",
    "print(yest_day)"
   ]
  },
  {
   "cell_type": "code",
   "execution_count": null,
   "metadata": {},
   "outputs": [],
   "source": []
  }
 ],
 "metadata": {
  "kernelspec": {
   "display_name": "Python 3",
   "language": "python",
   "name": "python3"
  },
  "language_info": {
   "codemirror_mode": {
    "name": "ipython",
    "version": 3
   },
   "file_extension": ".py",
   "mimetype": "text/x-python",
   "name": "python",
   "nbconvert_exporter": "python",
   "pygments_lexer": "ipython3",
   "version": "3.8.3"
  }
 },
 "nbformat": 4,
 "nbformat_minor": 4
}
